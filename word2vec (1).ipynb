{
  "nbformat": 4,
  "nbformat_minor": 0,
  "metadata": {
    "colab": {
      "name": "word2vec.ipynb",
      "provenance": []
    },
    "kernelspec": {
      "name": "python3",
      "display_name": "Python 3"
    }
  },
  "cells": [
    {
      "cell_type": "code",
      "metadata": {
        "id": "UuEwRSBoC28E"
      },
      "source": [
        "\"\"\"\n",
        "@Author: Divyansh.Gupta\n",
        "\"\"\"\n",
        "import nltk\n",
        "nltk.download()\n",
        "nltk.download('punkt')"
      ],
      "execution_count": null,
      "outputs": []
    },
    {
      "cell_type": "code",
      "metadata": {
        "colab": {
          "base_uri": "https://localhost:8080/",
          "height": 120
        },
        "id": "OYghq58zC_ut",
        "outputId": "1e46dd9e-e740-4f5d-c89e-f82172a68cfe"
      },
      "source": [
        "\n",
        "para = \"\"\"Paragraphs are the building blocks of papers. Many students define paragraphs in terms of length: a paragraph is a group of at least five sentences, a paragraph is half a page long, etc. In reality, though, the unity and coherence of ideas among sentences is what constitutes a paragraph. A paragraph is defined as “a group of sentences or a single sentence that forms a unit” (Lunsford and Connors 116). Length and appearance do not determine whether a section in a paper is a paragraph. For instance, in some styles of writing, particularly journalistic styles, a paragraph can be just one sentence long. Ultimately, a paragraph is a sentence or group of sentences that support one main idea. In this handout, we will refer to this as the “controlling idea,” because it controls what happens in the rest of the paragraph.\"\"\"\n",
        "para"
      ],
      "execution_count": 2,
      "outputs": [
        {
          "output_type": "execute_result",
          "data": {
            "application/vnd.google.colaboratory.intrinsic+json": {
              "type": "string"
            },
            "text/plain": [
              "'Paragraphs are the building blocks of papers. Many students define paragraphs in terms of length: a paragraph is a group of at least five sentences, a paragraph is half a page long, etc. In reality, though, the unity and coherence of ideas among sentences is what constitutes a paragraph. A paragraph is defined as “a group of sentences or a single sentence that forms a unit” (Lunsford and Connors 116). Length and appearance do not determine whether a section in a paper is a paragraph. For instance, in some styles of writing, particularly journalistic styles, a paragraph can be just one sentence long. Ultimately, a paragraph is a sentence or group of sentences that support one main idea. In this handout, we will refer to this as the “controlling idea,” because it controls what happens in the rest of the paragraph.'"
            ]
          },
          "metadata": {
            "tags": []
          },
          "execution_count": 2
        }
      ]
    },
    {
      "cell_type": "markdown",
      "metadata": {
        "id": "IFHjJjzmDMIW"
      },
      "source": [
        "# Text Cleaning"
      ]
    },
    {
      "cell_type": "code",
      "metadata": {
        "id": "NVd1p6T2DH31"
      },
      "source": [
        "import re # regular Expression\n",
        "from nltk.corpus import stopwords # For removing stopwords\n",
        "from nltk.stem import PorterStemmer # For doing stemming\n",
        "from nltk.stem import WordNetLemmatizer # For doing lemmatization\n",
        "from gensim.models import Word2Vec # Word2vec model "
      ],
      "execution_count": 3,
      "outputs": []
    },
    {
      "cell_type": "code",
      "metadata": {
        "id": "e0zmw4s9DfPx"
      },
      "source": [
        "# Creating objects \n",
        "stemm = PorterStemmer()\n",
        "lemm = WordNetLemmatizer()"
      ],
      "execution_count": 4,
      "outputs": []
    },
    {
      "cell_type": "code",
      "metadata": {
        "colab": {
          "base_uri": "https://localhost:8080/"
        },
        "id": "AvjP-mwCDoK6",
        "outputId": "7d9a86e9-1f37-41fe-c922-8cb5f37f1760"
      },
      "source": [
        "nltk.download('wordnet')\n",
        "nltk.download('stopwords')"
      ],
      "execution_count": 5,
      "outputs": [
        {
          "output_type": "stream",
          "text": [
            "[nltk_data] Downloading package wordnet to /root/nltk_data...\n",
            "[nltk_data]   Unzipping corpora/wordnet.zip.\n",
            "[nltk_data] Downloading package stopwords to /root/nltk_data...\n",
            "[nltk_data]   Unzipping corpora/stopwords.zip.\n"
          ],
          "name": "stdout"
        },
        {
          "output_type": "execute_result",
          "data": {
            "text/plain": [
              "True"
            ]
          },
          "metadata": {
            "tags": []
          },
          "execution_count": 5
        }
      ]
    },
    {
      "cell_type": "code",
      "metadata": {
        "id": "gQneCjK3F5gS"
      },
      "source": [
        "text = re.sub(r'\\[[0-9]*\\]',' ',para)\n",
        "text = re.sub(r'\\s+',' ',text)\n",
        "text = text.lower()\n",
        "text = re.sub(r'\\d',' ',text)\n",
        "text = re.sub(r'\\s',' ',text)"
      ],
      "execution_count": 17,
      "outputs": []
    },
    {
      "cell_type": "code",
      "metadata": {
        "id": "-REnwnGSG3Py"
      },
      "source": [
        "sentences = nltk.sent_tokenize(text)\n",
        "sentences = [nltk.word_tokenize(sentence) for sentence in sentences]\n",
        "for i in range(len(sentences)):\n",
        "  sentences[i]=[word for word in sentences[i] if word not in set(stopwords.words('english'))]"
      ],
      "execution_count": 19,
      "outputs": []
    },
    {
      "cell_type": "markdown",
      "metadata": {
        "id": "dVjMHsjdD0Oi"
      },
      "source": [
        "# Create Word2Vec Model"
      ]
    },
    {
      "cell_type": "markdown",
      "metadata": {
        "id": "DlzxVG5gEmyp"
      },
      "source": [
        "Min count can be change to any value as it signifies that if count is below this then we'll ignore. Here, my corpus is quite small so I'm using 1 but if we are using wiki corpus then we can use it 5,10 or any value"
      ]
    },
    {
      "cell_type": "code",
      "metadata": {
        "id": "wbC3h_nnDreL"
      },
      "source": [
        "model = Word2Vec(sentences,min_count=1) # Passing corpus to word2vec model and it'll consider all words having count greater than 1"
      ],
      "execution_count": 20,
      "outputs": []
    },
    {
      "cell_type": "code",
      "metadata": {
        "id": "DhCylktGEO4k"
      },
      "source": [
        "words = model.wv.vocab"
      ],
      "execution_count": 21,
      "outputs": []
    },
    {
      "cell_type": "code",
      "metadata": {
        "colab": {
          "base_uri": "https://localhost:8080/"
        },
        "id": "5LgwqkOzFbvC",
        "outputId": "8bfc4d6e-d8a6-4efe-ee5b-f9166f444ab9"
      },
      "source": [
        "vec = model.wv['half']\n",
        "vec # The vector of word \"Half\""
      ],
      "execution_count": 23,
      "outputs": [
        {
          "output_type": "execute_result",
          "data": {
            "text/plain": [
              "array([ 3.9746771e-03, -3.5270902e-03,  1.9952243e-03,  2.0816687e-03,\n",
              "       -2.9208211e-03,  4.2448440e-03,  3.5771127e-03, -4.5461389e-03,\n",
              "        4.2305402e-03,  4.7644950e-03,  8.0977939e-04, -2.6696897e-03,\n",
              "        9.7303558e-04, -4.5732409e-03, -3.1889072e-03, -3.5577575e-03,\n",
              "       -4.8534205e-04,  1.7712038e-03, -1.8245095e-04,  4.9829565e-04,\n",
              "       -1.1117413e-03, -1.4752544e-03,  1.6639577e-03, -9.6919388e-04,\n",
              "       -1.1564024e-03,  2.7473855e-03, -4.2767199e-03, -3.1732954e-03,\n",
              "        6.5040920e-04,  1.1771395e-03, -1.9203695e-03,  1.0875001e-03,\n",
              "        3.1871274e-03,  1.4614855e-03,  1.6494755e-03, -4.2693620e-03,\n",
              "        1.0715431e-05,  4.2315861e-03, -9.8012760e-04,  2.1874283e-03,\n",
              "        1.6735175e-03, -4.4281017e-03,  4.2144042e-03, -4.3719094e-03,\n",
              "        2.0833716e-03, -1.9305964e-03, -3.9520087e-03, -6.8538130e-04,\n",
              "       -8.7157352e-04,  2.9264722e-04,  9.2966104e-04,  3.8740674e-03,\n",
              "        3.6538690e-03, -4.8778844e-03, -2.5849885e-03,  2.5859606e-03,\n",
              "        2.3703981e-04, -1.6581188e-03,  3.2125323e-03, -3.5037643e-03,\n",
              "       -1.9284535e-03, -4.6810508e-03,  3.6739053e-03, -9.0939115e-04,\n",
              "       -3.1069417e-03,  4.6655829e-03,  3.6124354e-03, -4.2995904e-04,\n",
              "        3.6058915e-03,  3.6920544e-03,  1.6843975e-03, -2.4255493e-04,\n",
              "       -2.6239937e-03,  4.8283674e-03, -3.0944389e-03, -2.0533961e-03,\n",
              "       -1.9605216e-03, -4.3373690e-03, -2.1028416e-03, -1.2757599e-03,\n",
              "        1.5379667e-03, -4.4167824e-03,  2.8967138e-03,  1.0901344e-03,\n",
              "        2.5171537e-03,  2.8630154e-04,  3.7389828e-03, -4.9259490e-03,\n",
              "       -2.9825536e-03, -3.3298102e-03,  5.1206897e-04, -1.6675680e-03,\n",
              "        4.4053504e-03,  1.9592820e-03,  3.0154632e-03, -6.6140026e-04,\n",
              "       -3.2328842e-03,  3.9871018e-03, -2.7981945e-03,  1.0798707e-03],\n",
              "      dtype=float32)"
            ]
          },
          "metadata": {
            "tags": []
          },
          "execution_count": 23
        }
      ]
    },
    {
      "cell_type": "code",
      "metadata": {
        "colab": {
          "base_uri": "https://localhost:8080/"
        },
        "id": "L6djj0GYFIXw",
        "outputId": "27052b18-f2db-4b8f-fccb-702a2893f559"
      },
      "source": [
        "simi = model.wv.most_similar('half')\n",
        "simi # Find similar words of \"Half\""
      ],
      "execution_count": 24,
      "outputs": [
        {
          "output_type": "execute_result",
          "data": {
            "text/plain": [
              "[('many', 0.21189740300178528),\n",
              " ('”', 0.20207786560058594),\n",
              " ('reality', 0.17743466794490814),\n",
              " ('writing', 0.15586745738983154),\n",
              " ('paragraph', 0.15523338317871094),\n",
              " ('section', 0.15404801070690155),\n",
              " ('page', 0.14449606835842133),\n",
              " ('main', 0.09914683550596237),\n",
              " ('styles', 0.09520252794027328),\n",
              " ('length', 0.09219510108232498)]"
            ]
          },
          "metadata": {
            "tags": []
          },
          "execution_count": 24
        }
      ]
    },
    {
      "cell_type": "code",
      "metadata": {
        "id": "fuwSe3YdFJbF"
      },
      "source": [
        ""
      ],
      "execution_count": null,
      "outputs": []
    }
  ]
}