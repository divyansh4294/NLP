{
  "nbformat": 4,
  "nbformat_minor": 0,
  "metadata": {
    "colab": {
      "name": "TF-IDF.ipynb",
      "provenance": [],
      "collapsed_sections": []
    },
    "kernelspec": {
      "name": "python3",
      "display_name": "Python 3"
    }
  },
  "cells": [
    {
      "cell_type": "code",
      "metadata": {
        "id": "jWqhurBf9IDx"
      },
      "source": [
        "\"\"\"\n",
        "@Author: Divyansh.Gupta\n",
        "\"\"\"\n",
        "import nltk\n",
        "nltk.download()\n",
        "nltk.download('punkt')\n",
        "\n"
      ],
      "execution_count": null,
      "outputs": []
    },
    {
      "cell_type": "code",
      "metadata": {
        "colab": {
          "base_uri": "https://localhost:8080/",
          "height": 120
        },
        "id": "cSkurhth9MJy",
        "outputId": "6809b43d-546b-4aa7-f81e-4cf043cac637"
      },
      "source": [
        "para = \"\"\"Paragraphs are the building blocks of papers. Many students define paragraphs in terms of length: a paragraph is a group of at least five sentences, a paragraph is half a page long, etc. In reality, though, the unity and coherence of ideas among sentences is what constitutes a paragraph. A paragraph is defined as “a group of sentences or a single sentence that forms a unit” (Lunsford and Connors 116). Length and appearance do not determine whether a section in a paper is a paragraph. For instance, in some styles of writing, particularly journalistic styles, a paragraph can be just one sentence long. Ultimately, a paragraph is a sentence or group of sentences that support one main idea. In this handout, we will refer to this as the “controlling idea,” because it controls what happens in the rest of the paragraph.\"\"\"\n",
        "para"
      ],
      "execution_count": 7,
      "outputs": [
        {
          "output_type": "execute_result",
          "data": {
            "application/vnd.google.colaboratory.intrinsic+json": {
              "type": "string"
            },
            "text/plain": [
              "'Paragraphs are the building blocks of papers. Many students define paragraphs in terms of length: a paragraph is a group of at least five sentences, a paragraph is half a page long, etc. In reality, though, the unity and coherence of ideas among sentences is what constitutes a paragraph. A paragraph is defined as “a group of sentences or a single sentence that forms a unit” (Lunsford and Connors 116). Length and appearance do not determine whether a section in a paper is a paragraph. For instance, in some styles of writing, particularly journalistic styles, a paragraph can be just one sentence long. Ultimately, a paragraph is a sentence or group of sentences that support one main idea. In this handout, we will refer to this as the “controlling idea,” because it controls what happens in the rest of the paragraph.'"
            ]
          },
          "metadata": {
            "tags": []
          },
          "execution_count": 7
        }
      ]
    },
    {
      "cell_type": "markdown",
      "metadata": {
        "id": "93MMwfnh9Usr"
      },
      "source": [
        "# Text Cleaning\n"
      ]
    },
    {
      "cell_type": "code",
      "metadata": {
        "id": "df0eu0yT9NxE"
      },
      "source": [
        "import re # regular Expression\n",
        "from nltk.corpus import stopwords # For removing stopwords\n",
        "from nltk.stem import PorterStemmer # For doing stemming\n",
        "from nltk.stem import WordNetLemmatizer # For doing lemmatization\n"
      ],
      "execution_count": 8,
      "outputs": []
    },
    {
      "cell_type": "code",
      "metadata": {
        "id": "FOdRmVyf9XHE"
      },
      "source": [
        "# Creating objects \n",
        "stemm = PorterStemmer()\n",
        "lemm = WordNetLemmatizer()"
      ],
      "execution_count": 9,
      "outputs": []
    },
    {
      "cell_type": "code",
      "metadata": {
        "colab": {
          "base_uri": "https://localhost:8080/"
        },
        "id": "N6Gml_Tu9ZXz",
        "outputId": "31bc3560-da93-4b65-ee08-5f1d5f6977ed"
      },
      "source": [
        "nltk.download('wordnet')\n",
        "nltk.download('stopwords')"
      ],
      "execution_count": 12,
      "outputs": [
        {
          "output_type": "stream",
          "text": [
            "[nltk_data] Downloading package wordnet to /root/nltk_data...\n",
            "[nltk_data]   Package wordnet is already up-to-date!\n",
            "[nltk_data] Downloading package stopwords to /root/nltk_data...\n",
            "[nltk_data]   Unzipping corpora/stopwords.zip.\n"
          ],
          "name": "stdout"
        },
        {
          "output_type": "execute_result",
          "data": {
            "text/plain": [
              "True"
            ]
          },
          "metadata": {
            "tags": []
          },
          "execution_count": 12
        }
      ]
    },
    {
      "cell_type": "code",
      "metadata": {
        "id": "u5UXt4c49bIG"
      },
      "source": [
        "sentences = nltk.sent_tokenize(para) # Getting sentences out of paraphrase\n",
        "corpus = [] # initializing list to store sentences after processing\n",
        "for i in range(len(sentences)):\n",
        "  rev = re.sub('[^a-zA-Z]',' ', sentences[i]) # removing unnecassary character from sentence\n",
        "  rev = rev.lower() # convert all chars in lower case\n",
        "  rev = rev.split() # split the sentences into words\n",
        "  rev = [lemm.lemmatize(word) for word in rev if word not in set(stopwords.words('english'))] # removing stopwords from sentences and lemmatize\n",
        "  rev = \" \".join(rev) # joining words again back to sentences\n",
        "  corpus.append(rev) # add it into corpus list"
      ],
      "execution_count": 13,
      "outputs": []
    },
    {
      "cell_type": "markdown",
      "metadata": {
        "id": "ITF7tBHh9fbf"
      },
      "source": [
        "# Create Bag Of Word Model"
      ]
    },
    {
      "cell_type": "code",
      "metadata": {
        "id": "K43zzexU9dB5"
      },
      "source": [
        "from sklearn.feature_extraction.text import TfidfVectorizer\n",
        "tfidf = TfidfVectorizer()\n",
        "X = tfidf.fit_transform(corpus).toarray()"
      ],
      "execution_count": 14,
      "outputs": []
    },
    {
      "cell_type": "markdown",
      "metadata": {
        "id": "SRLKRwCV_Loo"
      },
      "source": [
        "Our first sentence is \"**paragraph building block paper**\" which is having 4 words So our vector should have some values between 0 and 1 which shows how more the value have more weightage in sentence.\n",
        "\n"
      ]
    },
    {
      "cell_type": "code",
      "metadata": {
        "colab": {
          "base_uri": "https://localhost:8080/"
        },
        "id": "6unXOFLc9qvS",
        "outputId": "fc108033-41c6-4f59-d714-d279f7310a6a"
      },
      "source": [
        "print(\"Our sentence is ---- {}\".format(corpus[0]))\n",
        "print(\"its vector is \\n {}\".format(X[0]))"
      ],
      "execution_count": 21,
      "outputs": [
        {
          "output_type": "stream",
          "text": [
            "Our sentence is ---- paragraph building block paper\n",
            "its vector is \n",
            " [0.         0.         0.59112081 0.59112081 0.         0.\n",
            " 0.         0.         0.         0.         0.         0.\n",
            " 0.         0.         0.         0.         0.         0.\n",
            " 0.         0.         0.         0.         0.         0.\n",
            " 0.         0.         0.         0.         0.         0.\n",
            " 0.49540537 0.23606331 0.         0.         0.         0.\n",
            " 0.         0.         0.         0.         0.         0.\n",
            " 0.         0.         0.         0.         0.         0.\n",
            " 0.        ]\n"
          ],
          "name": "stdout"
        }
      ]
    },
    {
      "cell_type": "code",
      "metadata": {
        "id": "IJVwzgB4-8tA"
      },
      "source": [
        ""
      ],
      "execution_count": null,
      "outputs": []
    }
  ]
}