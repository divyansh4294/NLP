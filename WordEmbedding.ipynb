{
  "nbformat": 4,
  "nbformat_minor": 0,
  "metadata": {
    "colab": {
      "name": "WordEmbedding.ipynb",
      "provenance": [],
      "collapsed_sections": []
    },
    "kernelspec": {
      "name": "python3",
      "display_name": "Python 3"
    }
  },
  "cells": [
    {
      "cell_type": "code",
      "metadata": {
        "id": "w4AJoPK9lgIp"
      },
      "source": [
        "\"\"\"\n",
        "@Author: Divyansh.Gupta\n",
        "\"\"\"\n",
        "from tensorflow.keras.preprocessing.text import one_hot # to get one hot vector for each word in vocab"
      ],
      "execution_count": 1,
      "outputs": []
    },
    {
      "cell_type": "code",
      "metadata": {
        "colab": {
          "base_uri": "https://localhost:8080/",
          "height": 120
        },
        "id": "xotTjTB5oayf",
        "outputId": "a5a643dd-3070-4a88-e5ab-9e5d8d70f8d0"
      },
      "source": [
        "para = \"\"\"Paragraphs are the building blocks of papers. Many students define paragraphs in terms of length: a paragraph is a group of at least five sentences, a paragraph is half a page long, etc. In reality, though, the unity and coherence of ideas among sentences is what constitutes a paragraph. A paragraph is defined as “a group of sentences or a single sentence that forms a unit” (Lunsford and Connors 116). Length and appearance do not determine whether a section in a paper is a paragraph. For instance, in some styles of writing, particularly journalistic styles, a paragraph can be just one sentence long. Ultimately, a paragraph is a sentence or group of sentences that support one main idea. In this handout, we will refer to this as the “controlling idea,” because it controls what happens in the rest of the paragraph.\"\"\"\n",
        "para"
      ],
      "execution_count": 2,
      "outputs": [
        {
          "output_type": "execute_result",
          "data": {
            "application/vnd.google.colaboratory.intrinsic+json": {
              "type": "string"
            },
            "text/plain": [
              "'Paragraphs are the building blocks of papers. Many students define paragraphs in terms of length: a paragraph is a group of at least five sentences, a paragraph is half a page long, etc. In reality, though, the unity and coherence of ideas among sentences is what constitutes a paragraph. A paragraph is defined as “a group of sentences or a single sentence that forms a unit” (Lunsford and Connors 116). Length and appearance do not determine whether a section in a paper is a paragraph. For instance, in some styles of writing, particularly journalistic styles, a paragraph can be just one sentence long. Ultimately, a paragraph is a sentence or group of sentences that support one main idea. In this handout, we will refer to this as the “controlling idea,” because it controls what happens in the rest of the paragraph.'"
            ]
          },
          "metadata": {
            "tags": []
          },
          "execution_count": 2
        }
      ]
    },
    {
      "cell_type": "markdown",
      "metadata": {
        "id": "BlLPUoEQo2Py"
      },
      "source": [
        "# Text Cleaning"
      ]
    },
    {
      "cell_type": "code",
      "metadata": {
        "id": "_9PH6F5Horqq"
      },
      "source": [
        "import nltk\n",
        "nltk.download()\n",
        "nltk.download('punkt')\n",
        "import re # regular Expression\n",
        "from nltk.corpus import stopwords # For removing stopwords\n",
        "from nltk.stem import PorterStemmer # For doing stemming\n",
        "from nltk.stem import WordNetLemmatizer # For doing lemmatization"
      ],
      "execution_count": null,
      "outputs": []
    },
    {
      "cell_type": "code",
      "metadata": {
        "id": "xV5AokaJo6rr"
      },
      "source": [
        "# Creating objects \n",
        "stemm = PorterStemmer()\n",
        "lemm = WordNetLemmatizer()"
      ],
      "execution_count": 7,
      "outputs": []
    },
    {
      "cell_type": "code",
      "metadata": {
        "colab": {
          "base_uri": "https://localhost:8080/"
        },
        "id": "EDVAPbKro8eq",
        "outputId": "03314b30-c0af-4dbf-8056-f3504169117d"
      },
      "source": [
        "nltk.download('wordnet')\n",
        "nltk.download('stopwords')"
      ],
      "execution_count": 8,
      "outputs": [
        {
          "output_type": "stream",
          "text": [
            "[nltk_data] Downloading package wordnet to /root/nltk_data...\n",
            "[nltk_data]   Unzipping corpora/wordnet.zip.\n",
            "[nltk_data] Downloading package stopwords to /root/nltk_data...\n",
            "[nltk_data]   Unzipping corpora/stopwords.zip.\n"
          ],
          "name": "stdout"
        },
        {
          "output_type": "execute_result",
          "data": {
            "text/plain": [
              "True"
            ]
          },
          "metadata": {
            "tags": []
          },
          "execution_count": 8
        }
      ]
    },
    {
      "cell_type": "code",
      "metadata": {
        "id": "kO_CsP6wo-JO"
      },
      "source": [
        "text = re.sub(r'\\[[0-9]*\\]',' ',para)\n",
        "text = re.sub(r'\\s+',' ',text)\n",
        "text = text.lower()\n",
        "text = re.sub(r'\\d',' ',text)\n",
        "text = re.sub(r'\\s',' ',text)"
      ],
      "execution_count": 9,
      "outputs": []
    },
    {
      "cell_type": "code",
      "metadata": {
        "colab": {
          "base_uri": "https://localhost:8080/"
        },
        "id": "aO0CCmhdpMwx",
        "outputId": "1935a573-cc33-4ce6-f3a2-87fcc7542118"
      },
      "source": [
        "sentences = nltk.sent_tokenize(text)\n",
        "sentences"
      ],
      "execution_count": 10,
      "outputs": [
        {
          "output_type": "execute_result",
          "data": {
            "text/plain": [
              "['paragraphs are the building blocks of papers.',\n",
              " 'many students define paragraphs in terms of length: a paragraph is a group of at least five sentences, a paragraph is half a page long, etc.',\n",
              " 'in reality, though, the unity and coherence of ideas among sentences is what constitutes a paragraph.',\n",
              " 'a paragraph is defined as “a group of sentences or a single sentence that forms a unit” (lunsford and connors    ).',\n",
              " 'length and appearance do not determine whether a section in a paper is a paragraph.',\n",
              " 'for instance, in some styles of writing, particularly journalistic styles, a paragraph can be just one sentence long.',\n",
              " 'ultimately, a paragraph is a sentence or group of sentences that support one main idea.',\n",
              " 'in this handout, we will refer to this as the “controlling idea,” because it controls what happens in the rest of the paragraph.']"
            ]
          },
          "metadata": {
            "tags": []
          },
          "execution_count": 10
        }
      ]
    },
    {
      "cell_type": "code",
      "metadata": {
        "id": "70R3-nYWpRAP"
      },
      "source": [
        "voc_size=10000 # our vocabulory size is 10000"
      ],
      "execution_count": 11,
      "outputs": []
    },
    {
      "cell_type": "markdown",
      "metadata": {
        "id": "e3m1a9cWpme1"
      },
      "source": [
        "# One Hot Representation"
      ]
    },
    {
      "cell_type": "code",
      "metadata": {
        "colab": {
          "base_uri": "https://localhost:8080/"
        },
        "id": "9dp2O7xepjki",
        "outputId": "d930d548-32d8-49d2-b252-ba3a09aeb289"
      },
      "source": [
        "one_hot_rep = [one_hot(words,voc_size) for words in sentences]\n",
        "print(one_hot_rep) # it'll print index number of each word in vocabulary for each sentence"
      ],
      "execution_count": 12,
      "outputs": [
        {
          "output_type": "stream",
          "text": [
            "[[280, 2888, 3884, 1520, 7160, 209, 4348], [4500, 6215, 7602, 280, 9241, 6457, 209, 6840, 9246, 9138, 8984, 9246, 1766, 209, 2429, 4446, 5290, 2072, 9246, 9138, 8984, 9807, 9246, 4475, 2972, 608], [9241, 2151, 9037, 3884, 5267, 3961, 5238, 209, 706, 5867, 2072, 8984, 5394, 1880, 9246, 9138], [9246, 9138, 8984, 9901, 2085, 2981, 1766, 209, 2072, 9955, 9246, 9056, 8820, 7225, 4551, 9246, 3301, 7770, 3961, 3544], [6840, 3961, 8453, 1023, 3371, 4765, 6699, 9246, 232, 9241, 9246, 5268, 8984, 9246, 9138], [4457, 277, 9241, 1237, 3139, 209, 2402, 471, 5897, 3139, 9246, 9138, 5951, 5456, 9246, 2138, 8820, 2972], [18, 9246, 9138, 8984, 9246, 8820, 9955, 1766, 209, 2072, 7225, 8576, 2138, 877, 7215], [9241, 6903, 2096, 6066, 9993, 1053, 3611, 6903, 2085, 3884, 3298, 7215, 6019, 5934, 4683, 3368, 5394, 8996, 9241, 3884, 4184, 209, 3884, 9138]]\n"
          ],
          "name": "stdout"
        }
      ]
    },
    {
      "cell_type": "code",
      "metadata": {
        "colab": {
          "base_uri": "https://localhost:8080/"
        },
        "id": "NqyvMEHWp8Yi",
        "outputId": "a47ea0e8-f569-43f9-9b3d-448ecc30f3d0"
      },
      "source": [
        "# Want to check how its look like if sentence has slight change\n",
        "s1 = \"define paragraphs in terms of length\"\n",
        "s2 = \"define paragraphs in terms of sentences\"\n",
        "s = [s1,s2]\n",
        "one_hot_s1 = [one_hot(words,voc_size) for words in s]\n",
        "print(\"One Hot representation of Sentence 1:\", one_hot_s1[0])\n",
        "print(\"One Hot representation of Sentence 2:\", one_hot_s1[1])\n",
        "# Here you can see last word is different in sentence so having different index value "
      ],
      "execution_count": 15,
      "outputs": [
        {
          "output_type": "stream",
          "text": [
            "One Hot representation of Sentence 1: [7602, 280, 9241, 6457, 209, 6840]\n",
            "One Hot representation of Sentence 2: [7602, 280, 9241, 6457, 209, 2072]\n"
          ],
          "name": "stdout"
        }
      ]
    },
    {
      "cell_type": "markdown",
      "metadata": {
        "id": "vDR6mcJhr06G"
      },
      "source": [
        "# Word Embedding Representation"
      ]
    },
    {
      "cell_type": "code",
      "metadata": {
        "id": "2VEqpINuq7Og"
      },
      "source": [
        "from tensorflow.keras.layers import Embedding # to create embedding matrix which contains feature representation and words\n",
        "from tensorflow.keras.preprocessing.sequence import pad_sequences # it is used to add padding to sentences and make all of same length \n",
        "from tensorflow.keras.models import Sequential # to create a sequential model\n",
        "import numpy as np"
      ],
      "execution_count": 21,
      "outputs": []
    },
    {
      "cell_type": "code",
      "metadata": {
        "colab": {
          "base_uri": "https://localhost:8080/"
        },
        "id": "gYgZ7K7QsM8d",
        "outputId": "35de5878-bea1-4a91-8bf9-7236bbd53631"
      },
      "source": [
        "sent_length = 32\n",
        "padding = pad_sequences(one_hot_rep,padding=\"pre\" ,maxlen=sent_length) # \"pre\": adding extra zeros in front to make all are of same length\n",
        "print(padding)"
      ],
      "execution_count": 25,
      "outputs": [
        {
          "output_type": "stream",
          "text": [
            "[[   0    0    0    0    0    0    0    0    0    0    0    0    0    0\n",
            "     0    0    0    0    0    0    0    0    0    0    0  280 2888 3884\n",
            "  1520 7160  209 4348]\n",
            " [   0    0    0    0    0    0 4500 6215 7602  280 9241 6457  209 6840\n",
            "  9246 9138 8984 9246 1766  209 2429 4446 5290 2072 9246 9138 8984 9807\n",
            "  9246 4475 2972  608]\n",
            " [   0    0    0    0    0    0    0    0    0    0    0    0    0    0\n",
            "     0    0 9241 2151 9037 3884 5267 3961 5238  209  706 5867 2072 8984\n",
            "  5394 1880 9246 9138]\n",
            " [   0    0    0    0    0    0    0    0    0    0    0    0 9246 9138\n",
            "  8984 9901 2085 2981 1766  209 2072 9955 9246 9056 8820 7225 4551 9246\n",
            "  3301 7770 3961 3544]\n",
            " [   0    0    0    0    0    0    0    0    0    0    0    0    0    0\n",
            "     0    0    0 6840 3961 8453 1023 3371 4765 6699 9246  232 9241 9246\n",
            "  5268 8984 9246 9138]\n",
            " [   0    0    0    0    0    0    0    0    0    0    0    0    0    0\n",
            "  4457  277 9241 1237 3139  209 2402  471 5897 3139 9246 9138 5951 5456\n",
            "  9246 2138 8820 2972]\n",
            " [   0    0    0    0    0    0    0    0    0    0    0    0    0    0\n",
            "     0    0    0   18 9246 9138 8984 9246 8820 9955 1766  209 2072 7225\n",
            "  8576 2138  877 7215]\n",
            " [   0    0    0    0    0    0    0    0 9241 6903 2096 6066 9993 1053\n",
            "  3611 6903 2085 3884 3298 7215 6019 5934 4683 3368 5394 8996 9241 3884\n",
            "  4184  209 3884 9138]]\n"
          ],
          "name": "stdout"
        }
      ]
    },
    {
      "cell_type": "markdown",
      "metadata": {
        "id": "ddJ_KijFvvkC"
      },
      "source": [
        "# Create Word Embedding Model"
      ]
    },
    {
      "cell_type": "code",
      "metadata": {
        "id": "EtBqxXeHtqoY"
      },
      "source": [
        "# Mention the dimensions of vectors for each word in sentence\n",
        "dim=10"
      ],
      "execution_count": 26,
      "outputs": []
    },
    {
      "cell_type": "code",
      "metadata": {
        "id": "JXoBU0IKuI-S"
      },
      "source": [
        "model = Sequential()\n",
        "model.add(Embedding(voc_size,dim,input_length=sent_length))\n",
        "model.compile(\"adam\",\"mse\")"
      ],
      "execution_count": 27,
      "outputs": []
    },
    {
      "cell_type": "code",
      "metadata": {
        "colab": {
          "base_uri": "https://localhost:8080/"
        },
        "id": "NFlHb4Rjuf04",
        "outputId": "149eac5c-9303-466c-885c-df3281be7861"
      },
      "source": [
        "model.summary()"
      ],
      "execution_count": 28,
      "outputs": [
        {
          "output_type": "stream",
          "text": [
            "Model: \"sequential\"\n",
            "_________________________________________________________________\n",
            "Layer (type)                 Output Shape              Param #   \n",
            "=================================================================\n",
            "embedding (Embedding)        (None, 32, 10)            100000    \n",
            "=================================================================\n",
            "Total params: 100,000\n",
            "Trainable params: 100,000\n",
            "Non-trainable params: 0\n",
            "_________________________________________________________________\n"
          ],
          "name": "stdout"
        }
      ]
    },
    {
      "cell_type": "code",
      "metadata": {
        "colab": {
          "base_uri": "https://localhost:8080/"
        },
        "id": "zcGt6s1wuib0",
        "outputId": "3decda4d-d762-4e33-e4ce-088f267f52a7"
      },
      "source": [
        "print(model.predict(padding))"
      ],
      "execution_count": 29,
      "outputs": [
        {
          "output_type": "stream",
          "text": [
            "[[[ 0.03353995  0.03963746 -0.04645773 ...  0.01317262 -0.0237596\n",
            "   -0.00102959]\n",
            "  [ 0.03353995  0.03963746 -0.04645773 ...  0.01317262 -0.0237596\n",
            "   -0.00102959]\n",
            "  [ 0.03353995  0.03963746 -0.04645773 ...  0.01317262 -0.0237596\n",
            "   -0.00102959]\n",
            "  ...\n",
            "  [-0.03986184 -0.01845573  0.03058202 ... -0.01486502 -0.02003608\n",
            "   -0.00743703]\n",
            "  [-0.02975103 -0.04581063 -0.0209465  ...  0.03024281  0.01296455\n",
            "    0.03867718]\n",
            "  [-0.00255584  0.03052447 -0.04487751 ...  0.02593489  0.01097616\n",
            "   -0.02916834]]\n",
            "\n",
            " [[ 0.03353995  0.03963746 -0.04645773 ...  0.01317262 -0.0237596\n",
            "   -0.00102959]\n",
            "  [ 0.03353995  0.03963746 -0.04645773 ...  0.01317262 -0.0237596\n",
            "   -0.00102959]\n",
            "  [ 0.03353995  0.03963746 -0.04645773 ...  0.01317262 -0.0237596\n",
            "   -0.00102959]\n",
            "  ...\n",
            "  [-0.01903179 -0.01659364  0.02973784 ... -0.04506988  0.04727537\n",
            "    0.01585228]\n",
            "  [-0.04384639  0.03798742  0.028545   ...  0.01131365 -0.02177833\n",
            "    0.02681507]\n",
            "  [ 0.04848531 -0.03570934  0.02473709 ...  0.00170001 -0.03719307\n",
            "    0.03395073]]\n",
            "\n",
            " [[ 0.03353995  0.03963746 -0.04645773 ...  0.01317262 -0.0237596\n",
            "   -0.00102959]\n",
            "  [ 0.03353995  0.03963746 -0.04645773 ...  0.01317262 -0.0237596\n",
            "   -0.00102959]\n",
            "  [ 0.03353995  0.03963746 -0.04645773 ...  0.01317262 -0.0237596\n",
            "   -0.00102959]\n",
            "  ...\n",
            "  [ 0.0394611   0.01479403 -0.01040721 ... -0.03012117  0.01047522\n",
            "    0.04655761]\n",
            "  [-0.00084907 -0.0473679   0.00400437 ...  0.03592696  0.03025371\n",
            "   -0.03261488]\n",
            "  [-0.00597528 -0.04722783  0.01798723 ... -0.01112486  0.03642294\n",
            "   -0.03726763]]\n",
            "\n",
            " ...\n",
            "\n",
            " [[ 0.03353995  0.03963746 -0.04645773 ...  0.01317262 -0.0237596\n",
            "   -0.00102959]\n",
            "  [ 0.03353995  0.03963746 -0.04645773 ...  0.01317262 -0.0237596\n",
            "   -0.00102959]\n",
            "  [ 0.03353995  0.03963746 -0.04645773 ...  0.01317262 -0.0237596\n",
            "   -0.00102959]\n",
            "  ...\n",
            "  [-0.03593127  0.01883621  0.04984299 ... -0.02165805  0.04815855\n",
            "    0.01797846]\n",
            "  [ 0.03274227  0.03242518 -0.04437551 ...  0.01229202 -0.00394171\n",
            "   -0.02958621]\n",
            "  [-0.04384639  0.03798742  0.028545   ...  0.01131365 -0.02177833\n",
            "    0.02681507]]\n",
            "\n",
            " [[ 0.03353995  0.03963746 -0.04645773 ...  0.01317262 -0.0237596\n",
            "   -0.00102959]\n",
            "  [ 0.03353995  0.03963746 -0.04645773 ...  0.01317262 -0.0237596\n",
            "   -0.00102959]\n",
            "  [ 0.03353995  0.03963746 -0.04645773 ...  0.01317262 -0.0237596\n",
            "   -0.00102959]\n",
            "  ...\n",
            "  [-0.03593127  0.01883621  0.04984299 ... -0.02165805  0.04815855\n",
            "    0.01797846]\n",
            "  [ 0.03358325  0.02026678 -0.04473161 ...  0.01018815  0.03472184\n",
            "    0.02265489]\n",
            "  [ 0.01361616  0.03757055  0.01555045 ... -0.04565699 -0.00099768\n",
            "    0.00096054]]\n",
            "\n",
            " [[ 0.03353995  0.03963746 -0.04645773 ...  0.01317262 -0.0237596\n",
            "   -0.00102959]\n",
            "  [ 0.03353995  0.03963746 -0.04645773 ...  0.01317262 -0.0237596\n",
            "   -0.00102959]\n",
            "  [ 0.03353995  0.03963746 -0.04645773 ...  0.01317262 -0.0237596\n",
            "   -0.00102959]\n",
            "  ...\n",
            "  [-0.02975103 -0.04581063 -0.0209465  ...  0.03024281  0.01296455\n",
            "    0.03867718]\n",
            "  [-0.02784385  0.01014484 -0.04036596 ...  0.0068587  -0.04631282\n",
            "    0.03320229]\n",
            "  [-0.00597528 -0.04722783  0.01798723 ... -0.01112486  0.03642294\n",
            "   -0.03726763]]]\n"
          ],
          "name": "stdout"
        }
      ]
    },
    {
      "cell_type": "code",
      "metadata": {
        "colab": {
          "base_uri": "https://localhost:8080/"
        },
        "id": "0AXxUbzIusN5",
        "outputId": "769aa8e6-76b5-47b0-9c64-06425b91144b"
      },
      "source": [
        "padding[0][-1]"
      ],
      "execution_count": 32,
      "outputs": [
        {
          "output_type": "execute_result",
          "data": {
            "text/plain": [
              "4348"
            ]
          },
          "metadata": {
            "tags": []
          },
          "execution_count": 32
        }
      ]
    },
    {
      "cell_type": "code",
      "metadata": {
        "colab": {
          "base_uri": "https://localhost:8080/"
        },
        "id": "T7p9PVnJu6qa",
        "outputId": "040fa225-221b-4232-96f1-30de7856f3ac"
      },
      "source": [
        "print(model.predict(padding)[0][-1])"
      ],
      "execution_count": 33,
      "outputs": [
        {
          "output_type": "stream",
          "text": [
            "[-0.00255584  0.03052447 -0.04487751 -0.00218828 -0.03234901  0.00470889\n",
            " -0.00185559  0.02593489  0.01097616 -0.02916834]\n"
          ],
          "name": "stdout"
        }
      ]
    },
    {
      "cell_type": "markdown",
      "metadata": {
        "id": "Db74324CvZ2i"
      },
      "source": [
        "Here you can see that the index number 4348 now is converted into vector which is having 10 dimension as we have mentioned in Embedding layer."
      ]
    },
    {
      "cell_type": "code",
      "metadata": {
        "id": "jXDyhBaHvEnm"
      },
      "source": [
        ""
      ],
      "execution_count": null,
      "outputs": []
    }
  ]
}