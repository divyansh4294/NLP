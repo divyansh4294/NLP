{
  "nbformat": 4,
  "nbformat_minor": 0,
  "metadata": {
    "colab": {
      "name": "Bag_Of_Word.ipynb",
      "provenance": [],
      "collapsed_sections": []
    },
    "kernelspec": {
      "name": "python3",
      "display_name": "Python 3"
    }
  },
  "cells": [
    {
      "cell_type": "code",
      "metadata": {
        "id": "OMS1hElhNi3W"
      },
      "source": [
        "\"\"\"\n",
        "@Author: Divyansh.Gupta\n",
        "\"\"\"\n",
        "import nltk\n",
        "nltk.download()\n",
        "nltk.download('punkt')"
      ],
      "execution_count": null,
      "outputs": []
    },
    {
      "cell_type": "code",
      "metadata": {
        "colab": {
          "base_uri": "https://localhost:8080/",
          "height": 120
        },
        "id": "QfA4ZG3BONhc",
        "outputId": "a69ddf64-a4ef-47d5-c573-8fa9aaf7145b"
      },
      "source": [
        "para = \"\"\"Paragraphs are the building blocks of papers. Many students define paragraphs in terms of length: a paragraph is a group of at least five sentences, a paragraph is half a page long, etc. In reality, though, the unity and coherence of ideas among sentences is what constitutes a paragraph. A paragraph is defined as “a group of sentences or a single sentence that forms a unit” (Lunsford and Connors 116). Length and appearance do not determine whether a section in a paper is a paragraph. For instance, in some styles of writing, particularly journalistic styles, a paragraph can be just one sentence long. Ultimately, a paragraph is a sentence or group of sentences that support one main idea. In this handout, we will refer to this as the “controlling idea,” because it controls what happens in the rest of the paragraph.\"\"\"\n",
        "para"
      ],
      "execution_count": 4,
      "outputs": [
        {
          "output_type": "execute_result",
          "data": {
            "application/vnd.google.colaboratory.intrinsic+json": {
              "type": "string"
            },
            "text/plain": [
              "'Paragraphs are the building blocks of papers. Many students define paragraphs in terms of length: a paragraph is a group of at least five sentences, a paragraph is half a page long, etc. In reality, though, the unity and coherence of ideas among sentences is what constitutes a paragraph. A paragraph is defined as “a group of sentences or a single sentence that forms a unit” (Lunsford and Connors 116). Length and appearance do not determine whether a section in a paper is a paragraph. For instance, in some styles of writing, particularly journalistic styles, a paragraph can be just one sentence long. Ultimately, a paragraph is a sentence or group of sentences that support one main idea. In this handout, we will refer to this as the “controlling idea,” because it controls what happens in the rest of the paragraph.'"
            ]
          },
          "metadata": {
            "tags": []
          },
          "execution_count": 4
        }
      ]
    },
    {
      "cell_type": "markdown",
      "metadata": {
        "id": "PIeRlcoSOfcx"
      },
      "source": [
        "# Text Cleaning"
      ]
    },
    {
      "cell_type": "code",
      "metadata": {
        "id": "IxjJBWVrOXhQ"
      },
      "source": [
        "import re # regular Expression\n",
        "from nltk.corpus import stopwords # For removing stopwords\n",
        "from nltk.stem import PorterStemmer # For doing stemming\n",
        "from nltk.stem import WordNetLemmatizer # For doing lemmatization\n"
      ],
      "execution_count": 6,
      "outputs": []
    },
    {
      "cell_type": "code",
      "metadata": {
        "id": "H66IfQ6WOd53"
      },
      "source": [
        "# Creating objects \n",
        "stemm = PorterStemmer()\n",
        "lemm = WordNetLemmatizer()\n"
      ],
      "execution_count": 8,
      "outputs": []
    },
    {
      "cell_type": "code",
      "metadata": {
        "colab": {
          "base_uri": "https://localhost:8080/"
        },
        "id": "aDjINbTDQ2Ww",
        "outputId": "081d3e77-0f84-4e8d-e06d-8074dfdd56cb"
      },
      "source": [
        "nltk.download('wordnet')"
      ],
      "execution_count": 13,
      "outputs": [
        {
          "output_type": "stream",
          "text": [
            "[nltk_data] Downloading package wordnet to /root/nltk_data...\n",
            "[nltk_data]   Unzipping corpora/wordnet.zip.\n"
          ],
          "name": "stdout"
        },
        {
          "output_type": "execute_result",
          "data": {
            "text/plain": [
              "True"
            ]
          },
          "metadata": {
            "tags": []
          },
          "execution_count": 13
        }
      ]
    },
    {
      "cell_type": "code",
      "metadata": {
        "id": "8_Zt4wD4PGkd"
      },
      "source": [
        "sentences = nltk.sent_tokenize(para) # Getting sentences out of paraphrase\n",
        "corpus = [] # initializing list to store sentences after processing\n",
        "for i in range(len(sentences)):\n",
        "  rev = re.sub('[^a-zA-Z]',' ', sentences[i]) # removing unnecassary character from sentence\n",
        "  rev = rev.lower() # convert all chars in lower case\n",
        "  rev = rev.split() # split the sentences into words\n",
        "  rev = [lemm.lemmatize(word) for word in rev if word not in set(stopwords.words('english'))] # removing stopwords from sentences and lemmatize\n",
        "  rev = \" \".join(rev) # joining words again back to sentences\n",
        "  corpus.append(rev) # add it into corpus list"
      ],
      "execution_count": 14,
      "outputs": []
    },
    {
      "cell_type": "markdown",
      "metadata": {
        "id": "w97phgQrQ9zH"
      },
      "source": [
        "# Create Bag Of Word Model"
      ]
    },
    {
      "cell_type": "code",
      "metadata": {
        "id": "0TYpOWi7Q09X"
      },
      "source": [
        "from sklearn.feature_extraction.text import CountVectorizer\n",
        "cv = CountVectorizer()\n",
        "X = cv.fit_transform(corpus).toarray()"
      ],
      "execution_count": 15,
      "outputs": []
    },
    {
      "cell_type": "markdown",
      "metadata": {
        "id": "vhCniWDLTGrJ"
      },
      "source": [
        "Our first sentence is \"**paragraph building block paper**\" which is having 4 words So our vector should have four 1's in it."
      ]
    },
    {
      "cell_type": "code",
      "metadata": {
        "colab": {
          "base_uri": "https://localhost:8080/"
        },
        "id": "LGlJJfvpRsFs",
        "outputId": "9dacbcd6-1b3d-45ad-93ce-4cf48e1c8bf8"
      },
      "source": [
        "print(\"Our sentence is {} and its vector is {} \".format(corpus[0],X[0]))"
      ],
      "execution_count": 23,
      "outputs": [
        {
          "output_type": "stream",
          "text": [
            "Our sentence is paragraph building block paper and its vector is [0 0 1 1 0 0 0 0 0 0 0 0 0 0 0 0 0 0 0 0 0 0 0 0 0 0 0 0 0 0 1 1 0 0 0 0 0\n",
            " 0 0 0 0 0 0 0 0 0 0 0 0] \n"
          ],
          "name": "stdout"
        }
      ]
    },
    {
      "cell_type": "code",
      "metadata": {
        "id": "XG57kf-aTQOl"
      },
      "source": [
        ""
      ],
      "execution_count": null,
      "outputs": []
    }
  ]
}